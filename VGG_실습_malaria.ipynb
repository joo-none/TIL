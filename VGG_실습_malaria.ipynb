{
 "cells": [
  {
   "attachments": {},
   "cell_type": "markdown",
   "metadata": {},
   "source": [
    "## 라이브러리"
   ]
  },
  {
   "cell_type": "code",
   "execution_count": null,
   "metadata": {},
   "outputs": [],
   "source": [
    "import numpy as np\n",
    "import pandas as pd\n",
    "import matplotlib.pyplot as plt"
   ]
  },
  {
   "cell_type": "code",
   "execution_count": null,
   "metadata": {},
   "outputs": [],
   "source": [
    "import tensorflow as tf\n",
    "from tensorflow.keras import Sequential\n",
    "from tensorflow.keras.layers import Conv2D, MaxPool2D, Dropout, Flatten, Dense\n",
    "from tensorflow.keras.callbacks import EarlyStopping"
   ]
  },
  {
   "attachments": {},
   "cell_type": "markdown",
   "metadata": {},
   "source": [
    "## 이미지 폴더 보기"
   ]
  },
  {
   "cell_type": "code",
   "execution_count": null,
   "metadata": {},
   "outputs": [],
   "source": [
    "# 이미지 다운로드\n",
    "!wget https://data.lhncbc.nlm.nih.gov/public/Malaria/cell_images.zip"
   ]
  },
  {
   "cell_type": "code",
   "execution_count": null,
   "metadata": {},
   "outputs": [],
   "source": [
    "# images 폴더에 다운로드 받은 파일 압축 해제하기\n",
    "!unzip cell_images.zip"
   ]
  },
  {
   "cell_type": "code",
   "execution_count": null,
   "metadata": {},
   "outputs": [],
   "source": [
    "import os\n",
    "for root, dirs, files in os.walk(\"./cell_images/\"):\n",
    "    print(root, dirs, len(files))"
   ]
  },
  {
   "attachments": {},
   "cell_type": "markdown",
   "metadata": {},
   "source": [
    "일부 이미지 미리보기"
   ]
  },
  {
   "cell_type": "code",
   "execution_count": null,
   "metadata": {},
   "outputs": [],
   "source": [
    "import glob\n",
    "upics = glob.glob('./cell_images/Uninfected/*.png')\n",
    "apics = glob.glob('./cell_images/Parasitized/*.png')\n",
    "len(upics), upics[0], len(apics), apics[0]"
   ]
  },
  {
   "cell_type": "code",
   "execution_count": null,
   "metadata": {},
   "outputs": [],
   "source": [
    "upics[:5]"
   ]
  },
  {
   "cell_type": "code",
   "execution_count": null,
   "metadata": {},
   "outputs": [],
   "source": [
    "apics[:5]"
   ]
  },
  {
   "cell_type": "code",
   "execution_count": null,
   "metadata": {},
   "outputs": [],
   "source": [
    "# cv2 로 Uninfected 시각화\n",
    "import cv2\n",
    "\n",
    "plt.figure(figsize=(8, 8))\n",
    "labels = \"Uninfected\"\n",
    "for i, images in enumerate(upics[:9]):\n",
    "    ax = plt.subplot(3, 3, i + 1)\n",
    "    img = cv2.imread(images)\n",
    "    plt.imshow(img)\n",
    "    plt.title(f'{labels} {img.shape}')\n",
    "    plt.axis(\"off\")"
   ]
  },
  {
   "cell_type": "code",
   "execution_count": null,
   "metadata": {},
   "outputs": [],
   "source": [
    "# cv2 로 Infected 시각화\n",
    "plt.figure(figsize=(8, 8))\n",
    "labels = \"Infected\"\n",
    "\n",
    "for i, images in enumerate(apics[:9]):\n",
    "    ax = plt.subplot(3, 3, i + 1)\n",
    "    img = cv2.imread(images)\n",
    "    plt.imshow(img)\n",
    "    plt.title(f'{labels} {img.shape}')\n",
    "    plt.axis(\"off\")"
   ]
  },
  {
   "attachments": {},
   "cell_type": "markdown",
   "metadata": {},
   "source": [
    "## 데이터셋 나누기\n",
    "train, test 나누기"
   ]
  },
  {
   "cell_type": "code",
   "execution_count": null,
   "metadata": {},
   "outputs": [],
   "source": [
    "# ImageDataGenerator 를 통해 이미지를 로드하고 전처리 합니다.\n",
    "from tensorflow.keras.preprocessing.image import ImageDataGenerator\n",
    "\n",
    "# validation_split 값을 통해 학습:검증 비율을 8:2 로 나눕니다.\n",
    "datagen = ImageDataGenerator(rescale=1/255.0, validation_split=0.2)"
   ]
  },
  {
   "attachments": {},
   "cell_type": "markdown",
   "metadata": {},
   "source": [
    "## 이미지 사이즈 설정"
   ]
  },
  {
   "cell_type": "code",
   "execution_count": null,
   "metadata": {},
   "outputs": [],
   "source": [
    "# 원본 이미지는 100~200 내외입니다.\n",
    "width = 64\n",
    "height = 64"
   ]
  },
  {
   "cell_type": "code",
   "execution_count": null,
   "metadata": {},
   "outputs": [],
   "source": [
    "# flow_from_directory 를 통해 이미지를 불러옵니다.\n",
    "trainDatagen = datagen.flow_from_directory(directory = 'cell_images/',\n",
    "                                           target_size = (height, width),\n",
    "                                           class_mode = 'binary',\n",
    "                                           batch_size = 64,\n",
    "                                           subset='training')"
   ]
  },
  {
   "cell_type": "code",
   "execution_count": null,
   "metadata": {},
   "outputs": [],
   "source": [
    "valDatagen = datagen.flow_from_directory(directory = 'cell_images/',\n",
    "                                         target_size =(height, width),\n",
    "                                         class_mode = 'binary',\n",
    "                                         batch_size = 64,\n",
    "                                         subset='validation')"
   ]
  },
  {
   "attachments": {},
   "cell_type": "markdown",
   "metadata": {},
   "source": [
    "## 레이어 설정"
   ]
  },
  {
   "cell_type": "code",
   "execution_count": null,
   "metadata": {},
   "outputs": [],
   "source": [
    "# tensorflow.keras.applications.vgg16에서 16개의 층을 사용하는 VGG16 모델을 불러옵니다.\n",
    "\n",
    "# TF Keras 예제 코드\n",
    "# 이미지넷 데이터셋 기준 => 1000 개의 분류를 하는 예제\n",
    "# classes=1000 예측할 이미지의 종류가 1000개다.\n",
    "# classifier_activation='softmax' 출력층의 output\n",
    "# 1000 개 종류의 확률값을 반환\n",
    "# 이미지넷의 가중치만 사용할 것이지 그대로 분류할게 아니기 때문에 해당 옵션이 필요 없습니다.\n",
    "# 미리 구현된 pre-trained model 을 사용해서 혈액도말이미지로 말라리아 감염여부를 예측할 것이기 때문에 클래스 수도 다르고, \n",
    "# 출력층 activation 도 따로 구현해 줄 것이기 때문에 include_top=False 로 나머지도 별도의 레이어로 구성해줍니다.\n",
    "\n",
    "# tensorflow.keras.applications.vgg19에서 19개의 층을 사용하는 VGG19 모델을 불러옵니다.\n",
    "\n",
    "# from tensorflow.keras.applications.vgg16 import VGG16\n",
    "\n",
    "# vgg = VGG16(\n",
    "#     include_top=False,\n",
    "#     weights='imagenet',\n",
    "#     input_shape=(height, width, 3),\n",
    "# )\n",
    "# model = Sequential()\n",
    "# model.add(vgg)\n",
    "# model.add(Flatten())\n",
    "# model.add(Dense(units=1, activation=\"sigmoid\"))"
   ]
  },
  {
   "cell_type": "code",
   "execution_count": null,
   "metadata": {},
   "outputs": [],
   "source": [
    "# tensorflow.keras.applications.resnet50 에서 ResNet50 을 불러옵니다.\n",
    "from tensorflow.keras.applications.resnet50 import ResNet50\n",
    "\n",
    "res = ResNet50(\n",
    "    include_top=False,\n",
    "    weights=None,\n",
    "    input_shape=(height, width, 3),\n",
    ")\n",
    "model = Sequential()\n",
    "model.add(res)\n",
    "model.add(Flatten())\n",
    "model.add(Dense(units=1, activation=\"sigmoid\"))"
   ]
  },
  {
   "attachments": {},
   "cell_type": "markdown",
   "metadata": {},
   "source": [
    "## 모델 요약"
   ]
  },
  {
   "cell_type": "code",
   "execution_count": null,
   "metadata": {},
   "outputs": [],
   "source": [
    "# summary\n",
    "model.summary()"
   ]
  },
  {
   "cell_type": "code",
   "execution_count": null,
   "metadata": {},
   "outputs": [],
   "source": [
    "# tensorflow.keras.utils의 plot_model 을 통한 레이어 시각화\n",
    "from tensorflow.keras.utils import plot_model\n",
    "\n",
    "plot_model(model)"
   ]
  },
  {
   "attachments": {},
   "cell_type": "markdown",
   "metadata": {},
   "source": [
    "## 컴파일"
   ]
  },
  {
   "cell_type": "code",
   "execution_count": null,
   "metadata": {},
   "outputs": [],
   "source": [
    "# compile\n",
    "model.compile(optimizer=tf.keras.optimizers.Adam(learning_rate=1e-2), \n",
    "              loss=tf.keras.losses.BinaryCrossentropy(), \n",
    "              metrics=[\"accuracy\"]\n",
    "             )"
   ]
  },
  {
   "attachments": {},
   "cell_type": "markdown",
   "metadata": {},
   "source": [
    "## 학습"
   ]
  },
  {
   "cell_type": "code",
   "execution_count": null,
   "metadata": {},
   "outputs": [],
   "source": [
    "early_stop = EarlyStopping(monitor='val_loss', patience=2)"
   ]
  },
  {
   "cell_type": "code",
   "execution_count": null,
   "metadata": {},
   "outputs": [],
   "source": [
    "# fit\n",
    "history = model.fit(trainDatagen, validation_data=valDatagen, \n",
    "                    callbacks=early_stop, epochs=10)"
   ]
  }
 ],
 "metadata": {
  "kernelspec": {
   "display_name": "base",
   "language": "python",
   "name": "python3"
  },
  "language_info": {
   "codemirror_mode": {
    "name": "ipython",
    "version": 3
   },
   "file_extension": ".py",
   "mimetype": "text/x-python",
   "name": "python",
   "nbconvert_exporter": "python",
   "pygments_lexer": "ipython3",
   "version": "3.9.13"
  },
  "orig_nbformat": 4
 },
 "nbformat": 4,
 "nbformat_minor": 2
}
