{
 "cells": [
  {
   "cell_type": "markdown",
   "metadata": {},
   "source": []
  },
  {
   "attachments": {},
   "cell_type": "markdown",
   "metadata": {},
   "source": [
    "## 라이브러리"
   ]
  },
  {
   "cell_type": "code",
   "execution_count": null,
   "metadata": {},
   "outputs": [],
   "source": [
    "import numpy as np\n",
    "import pandas as pd\n",
    "import matplotlib.pyplot as plt"
   ]
  },
  {
   "cell_type": "code",
   "execution_count": null,
   "metadata": {},
   "outputs": [],
   "source": [
    "# layers 에서는 Conv2D, MaxPool2D, Dropout, Flatten, Dense 를 불러옵니다.\n",
    "# callbacks 에서는 EarlyStopping 을 불러옵니다.\n",
    "import tensorflow as tf\n",
    "from tensorflow.keras import Sequential\n",
    "from tensorflow.keras.layers import Conv2D, MaxPool2D, Dropout, Flatten, Dense\n",
    "from tensorflow.keras.callbacks import EarlyStopping"
   ]
  },
  {
   "attachments": {},
   "cell_type": "markdown",
   "metadata": {},
   "source": [
    "## 이미지 폴더 보기"
   ]
  },
  {
   "cell_type": "code",
   "execution_count": null,
   "metadata": {},
   "outputs": [],
   "source": [
    "# 이미지 다운로드\n",
    "!wget https://data.lhncbc.nlm.nih.gov/public/Malaria/cell_images.zip"
   ]
  },
  {
   "cell_type": "code",
   "execution_count": null,
   "metadata": {},
   "outputs": [],
   "source": [
    "# images 폴더에 다운로드 받은 파일 압축 해제하기\n",
    "!unzip cell_images.zip"
   ]
  },
  {
   "cell_type": "code",
   "execution_count": null,
   "metadata": {},
   "outputs": [],
   "source": [
    "import os\n",
    "for root, dirs, files in os.walk(\"./cell_images/\"):\n",
    "    print(root, dirs, len(files))"
   ]
  },
  {
   "attachments": {},
   "cell_type": "markdown",
   "metadata": {},
   "source": [
    "## 일부 이미지 미리보기"
   ]
  },
  {
   "cell_type": "code",
   "execution_count": null,
   "metadata": {},
   "outputs": [],
   "source": [
    "import glob\n",
    "upics = glob.glob('./cell_images/Uninfected/*.png')\n",
    "apics = glob.glob('./cell_images/Parasitized/*.png')\n",
    "len(upics), upics[0], len(apics), apics[0]"
   ]
  },
  {
   "cell_type": "code",
   "execution_count": null,
   "metadata": {},
   "outputs": [],
   "source": [
    "# upics \n",
    "upics_0 = upics[0]\n",
    "upics_0_img = plt.imread(upics_0)\n",
    "plt.imshow(upics_0_img)"
   ]
  },
  {
   "cell_type": "code",
   "execution_count": null,
   "metadata": {},
   "outputs": [],
   "source": [
    "# apics\n",
    "\n",
    "apics_0 = apics[0]\n",
    "apics_0_img = plt.imread(apics_0)\n",
    "plt.imshow(apics_0_img)"
   ]
  },
  {
   "cell_type": "code",
   "execution_count": null,
   "metadata": {},
   "outputs": [],
   "source": [
    "# cv2 로 Uninfected 시각화\n",
    "import cv2\n",
    "\n",
    "plt.figure(figsize=(8, 8))\n",
    "labels = \"Uninfected\"\n",
    "for i, images in enumerate(upics[:9]):\n",
    "    ax = plt.subplot(3, 3, i + 1)\n",
    "    img = cv2.imread(images)\n",
    "    plt.imshow(img)\n",
    "    plt.title(f'{labels} {img.shape}')\n",
    "    plt.axis(\"off\")"
   ]
  },
  {
   "cell_type": "code",
   "execution_count": null,
   "metadata": {},
   "outputs": [],
   "source": [
    "# cv2 로 Infected 시각화\n",
    "plt.figure(figsize=(8, 8))\n",
    "labels = \"Infected\"\n",
    "\n",
    "for i, images in enumerate(apics[:9]):\n",
    "    ax = plt.subplot(3, 3, i + 1)\n",
    "    img = cv2.imread(images)\n",
    "    plt.imshow(img)\n",
    "    plt.title(f'{labels} {img.shape}')\n",
    "    plt.axis(\"off\")\n"
   ]
  },
  {
   "attachments": {},
   "cell_type": "markdown",
   "metadata": {},
   "source": [
    "## 데이터셋 나누기\n",
    "학습, 검증 세트"
   ]
  },
  {
   "cell_type": "code",
   "execution_count": null,
   "metadata": {},
   "outputs": [],
   "source": [
    "# ImageDataGenerator 를 통해 이미지를 로드하고 전처리 합니다.\n",
    "from tensorflow.keras.preprocessing.image import ImageDataGenerator\n",
    "\n",
    "# validation_split 값을 통해 학습:검증 비율을 8:2 로 나눕니다.\n",
    "datagen = ImageDataGenerator(rescale=1/255.0, validation_split=0.2)\n",
    "datagen"
   ]
  },
  {
   "attachments": {},
   "cell_type": "markdown",
   "metadata": {},
   "source": [
    "## 이미지 사이즈 설정\n",
    "이미지의 사이즈가 불규칙하면 학습을 할 수 없기 때문에\n",
    "\n",
    "이미지 사이즈를 재지정"
   ]
  },
  {
   "cell_type": "code",
   "execution_count": null,
   "metadata": {},
   "outputs": [],
   "source": [
    "# 원본 이미지는 100~200 내외입니다.\n",
    "width = 64\n",
    "height = 64"
   ]
  },
  {
   "attachments": {},
   "cell_type": "markdown",
   "metadata": {},
   "source": [
    "학습 세트 (train)"
   ]
  },
  {
   "cell_type": "code",
   "execution_count": null,
   "metadata": {},
   "outputs": [],
   "source": [
    "# flow_from_directory 를 통해 이미지를 불러옵니다.\n",
    "# training 데이터셋을 생성합니다.\n",
    "# class_mode 에는 이진분류이기 때문에 binary 를 넣어줍니다.\n",
    "trainDatagen = datagen.flow_from_directory(directory = 'cell_images/',\n",
    "                                           target_size = (height, width),\n",
    "                                           class_mode = 'binary',\n",
    "                                           batch_size = 64,\n",
    "                                           subset='training')"
   ]
  },
  {
   "cell_type": "code",
   "execution_count": null,
   "metadata": {},
   "outputs": [],
   "source": [
    "trainDatagen.num_classes"
   ]
  },
  {
   "cell_type": "code",
   "execution_count": null,
   "metadata": {},
   "outputs": [],
   "source": [
    "trainDatagen.classes"
   ]
  },
  {
   "attachments": {},
   "cell_type": "markdown",
   "metadata": {},
   "source": [
    "검증 세트 (test)"
   ]
  },
  {
   "cell_type": "code",
   "execution_count": null,
   "metadata": {},
   "outputs": [],
   "source": [
    "# validation 데이터셋을 생성합니다.\n",
    "# class_mode: One of \"categorical\", \"binary\", \"sparse\",\n",
    "#     \"input\", or None. Default: \"categorical\".\n",
    "# subset: Subset of data (\"training\" or \"validation\")\n",
    "valDatagen = datagen.flow_from_directory(directory = 'cell_images/',\n",
    "                                         target_size =(height, width),\n",
    "                                         class_mode = 'binary',\n",
    "                                         batch_size = 64,\n",
    "                                         subset='validation')"
   ]
  },
  {
   "cell_type": "code",
   "execution_count": null,
   "metadata": {},
   "outputs": [],
   "source": [
    "# {'Parasitized': 0, 'Uninfected': 1}\n",
    "# 0 : 감염, 1: 감염 안 됨\n",
    "valDatagen.class_indices"
   ]
  },
  {
   "attachments": {},
   "cell_type": "markdown",
   "metadata": {},
   "source": [
    "## 레이어 설정"
   ]
  },
  {
   "attachments": {},
   "cell_type": "markdown",
   "metadata": {},
   "source": [
    "CNN에서 사용되는 대표적인 레이어: Conv2D, MaxPolling2D\n",
    "\n",
    "* Conv2D\n",
    "    * 2D 합성곱 연산을 수행하는 레이어\n",
    "    * 입력 데이터를 필터와 함께 함성곱하여 출력 데이터를 생성\n",
    "    * 필터는 입력 데이터의 부분 영역과 요소곱을 수행하고 그 결과를 모두 더하여 출력 데이터의 한 요소를 생성\n",
    "    * 이때 필터를 슬라이딩해가며 입력 데이터 전체에 대해 합성곱을 수행\n",
    "    * 일반적으로 여러 개의 필터를 사용하여 여러 개의 출력 데이터 (Feature Map)을 생성\n",
    "    * 이렇게 생성된 특징 맵은 다음 레이어로 전달되어 더 복잡한 특징을 추출하는 데에 사용\n",
    "\n",
    "* MaxPool2D\n",
    "    * 2D 맥스 풀링 연산을 수행하는 레이어\n",
    "    * 입력 데이터의 영역을 나누고, 각 영역에서 가장 큰 값을 선택하여 출력 데이터를 생성\n",
    "    * 이를 통해 입력 데이터의 크기를 줄이고, 필터링 효과를 얻을 수 있음\n",
    "    * 주로 Conv2D 레이어 다음에 위치하여 특징 맵의 크기를 줄이는 데 사용"
   ]
  },
  {
   "attachments": {},
   "cell_type": "markdown",
   "metadata": {},
   "source": [
    "* filter\n",
    "    * 컨볼루션의 필터 수\n",
    "    * 특징 맵 수\n",
    "\n",
    "* kernel_size\n",
    "    * 컨볼루션 커널의 행, 열\n",
    "    * 필터 사이즈\n",
    "\n",
    "* padding\n",
    "    * 경계 처리 방법\n",
    "    * 'valid': 유효한 영역만 출력. 따라서 출력 이미지 사이즈는 입력 사이즈보다 작음\n",
    "    * 'same': 출력 이미지 사이즈 = 입력 이미지 사이즈\n",
    "\n",
    "* input_shape\n",
    "    * 모델에서 첫 레이어에 정의\n",
    "    * (height, width, channels)\n",
    "\n",
    "* activation\n",
    "    * 활성화 함수 설정\n",
    "    * 'linear': 기본값, 입력 뉴런과 가중치로 계산된 결과값이 그대로 출력\n",
    "    * 'relu': rectifier 함수, 은닉층에 주로 사용\n",
    "    * 'sigmoid': 시그모이드 함수, 이진 분류 문제에서 출력층에 주로 사용 (예측값이 둘 중 하나)\n",
    "    * 'softmax': 소프트맥스 함수, 다중 클래스 분류 문제에서 출력층에 주로 사용 (예측값이 n개)"
   ]
  },
  {
   "cell_type": "code",
   "execution_count": null,
   "metadata": {},
   "outputs": [],
   "source": [
    "from tensorflow.keras.layers import MaxPooling2D"
   ]
  },
  {
   "cell_type": "code",
   "execution_count": null,
   "metadata": {},
   "outputs": [],
   "source": [
    "# padding : 경계 처리 방법\n",
    "# ‘valid’ : 유효한 영역만 출력이 됩니다. 따라서 출력 이미지 사이즈는 입력 사이즈보다 작습니다.\n",
    "# ‘same’ : 출력 이미지 사이즈가 입력 이미지 사이즈와 동일합니다.\n",
    "model = Sequential()\n",
    "# 입력층\n",
    "model.add(Conv2D(filters=16, kernel_size=(3,3), activation='relu', input_shape=(height, width, 3)))\n",
    "model.add(MaxPool2D(pool_size=(2,2)))\n",
    "model.add(Conv2D(filters=32, kernel_size=(3, 3), activation='relu'))\n",
    "model.add(MaxPooling2D(pool_size=(2, 2)))\n",
    "model.add(Conv2D(filters=16, kernel_size=(3, 3), activation='relu'))\n",
    "model.add(MaxPooling2D(pool_size=(2, 2)))\n",
    "model.add(Dropout(0.2))\n",
    "\n",
    "# Fully-connected layer\n",
    "model.add(Flatten())\n",
    "model.add(Dense(32, activation='relu'))\n",
    "\n",
    "# 출력층 => 말라리아 감염여부를 분류합니다.\n",
    "model.add(Dense(1, activation='sigmoid'))"
   ]
  },
  {
   "attachments": {},
   "cell_type": "markdown",
   "metadata": {},
   "source": [
    "모델 요약"
   ]
  },
  {
   "cell_type": "code",
   "execution_count": null,
   "metadata": {},
   "outputs": [],
   "source": [
    "# summary\n",
    "model.summary()"
   ]
  },
  {
   "cell_type": "code",
   "execution_count": null,
   "metadata": {},
   "outputs": [],
   "source": [
    "# tensorflow.keras.utils의 plot_model 을 통한 레이어 시각화\n",
    "\n",
    "from tensorflow.keras.utils import plot_model\n",
    "\n",
    "plot_model(model)"
   ]
  },
  {
   "attachments": {},
   "cell_type": "markdown",
   "metadata": {},
   "source": [
    "## 컴파일"
   ]
  },
  {
   "attachments": {},
   "cell_type": "markdown",
   "metadata": {},
   "source": [
    "* Optimizer\n",
    "    * 데이터와 손실 함수를 바탕으로 모델의 업데이트 방법을 결정\n",
    "\n",
    "* Metrics\n",
    "    * 훈련 단계와 테스트 단계를 모니터링하기 위해 사용\n",
    "\n",
    "* Loss function (손실 함수)\n",
    "    - 훈련하는 동안 모델의 오차를 측정\n",
    "    - 모델의 학습이 올바른 방향으로 향하도록 이 함수를 최소화해야함\n",
    "    - 최적의 가중치를 찾도록 해야함\n",
    "\n",
    "    - 회귀: MSE, MAE\n",
    "    - 분류\n",
    "        - 바이너리: binary_crossentropy\n",
    "        - 멀티클래스: categorical_crossentropy, sparse_categorical_crossentropy"
   ]
  },
  {
   "cell_type": "code",
   "execution_count": null,
   "metadata": {},
   "outputs": [],
   "source": [
    "optim = tf.keras.optimizers.Adam(learning_rate=1e-3)\n",
    "optim"
   ]
  },
  {
   "cell_type": "code",
   "execution_count": null,
   "metadata": {},
   "outputs": [],
   "source": [
    "# model.compile\n",
    "# 옵티마이저 'adam'\n",
    "# 손실함수 이진분류\n",
    "# 측정지표 'accuracy'\n",
    "\n",
    "model.compile(optimizer=optim,\n",
    "             loss=tf.keras.losses.BinaryCrossentropy(),\n",
    "             metrics=['accuracy'])"
   ]
  },
  {
   "attachments": {},
   "cell_type": "markdown",
   "metadata": {},
   "source": [
    "## 학습"
   ]
  },
  {
   "attachments": {},
   "cell_type": "markdown",
   "metadata": {},
   "source": [
    "* batch: 모델 학습에 한 번에 입력할 데이터셋\n",
    "* epoch: 모델 학습 시 전체 데이터를 학습한 횟수\n",
    "* step: 하나의 배치를 학습한 횟수\n",
    "* EarlyStopping: 성능이 더 이상 좋아지지 않으면 학습을 중지"
   ]
  },
  {
   "cell_type": "code",
   "execution_count": null,
   "metadata": {},
   "outputs": [],
   "source": [
    "early_stop = EarlyStopping(monitor='val_loss', patience=2)\n",
    "early_stop"
   ]
  },
  {
   "cell_type": "code",
   "execution_count": null,
   "metadata": {},
   "outputs": [],
   "source": [
    "# fit\n",
    "\n",
    "history = model.fit(trainDatagen, epochs=1000,\n",
    "                   callbacks=early_stop,\n",
    "                   validation_data=valDatagen)"
   ]
  },
  {
   "cell_type": "code",
   "execution_count": null,
   "metadata": {},
   "outputs": [],
   "source": [
    "# history\n",
    "\n",
    "history "
   ]
  },
  {
   "cell_type": "code",
   "execution_count": null,
   "metadata": {},
   "outputs": [],
   "source": []
  },
  {
   "cell_type": "code",
   "execution_count": null,
   "metadata": {},
   "outputs": [],
   "source": []
  },
  {
   "cell_type": "code",
   "execution_count": null,
   "metadata": {},
   "outputs": [],
   "source": []
  },
  {
   "cell_type": "code",
   "execution_count": null,
   "metadata": {},
   "outputs": [],
   "source": []
  },
  {
   "cell_type": "code",
   "execution_count": null,
   "metadata": {},
   "outputs": [],
   "source": []
  },
  {
   "cell_type": "code",
   "execution_count": null,
   "metadata": {},
   "outputs": [],
   "source": []
  },
  {
   "cell_type": "code",
   "execution_count": null,
   "metadata": {},
   "outputs": [],
   "source": []
  },
  {
   "cell_type": "code",
   "execution_count": null,
   "metadata": {},
   "outputs": [],
   "source": []
  },
  {
   "cell_type": "code",
   "execution_count": null,
   "metadata": {},
   "outputs": [],
   "source": []
  },
  {
   "cell_type": "code",
   "execution_count": null,
   "metadata": {},
   "outputs": [],
   "source": []
  },
  {
   "cell_type": "code",
   "execution_count": null,
   "metadata": {},
   "outputs": [],
   "source": []
  },
  {
   "cell_type": "code",
   "execution_count": null,
   "metadata": {},
   "outputs": [],
   "source": []
  },
  {
   "cell_type": "code",
   "execution_count": null,
   "metadata": {},
   "outputs": [],
   "source": []
  },
  {
   "cell_type": "code",
   "execution_count": null,
   "metadata": {},
   "outputs": [],
   "source": []
  },
  {
   "cell_type": "code",
   "execution_count": null,
   "metadata": {},
   "outputs": [],
   "source": []
  },
  {
   "cell_type": "code",
   "execution_count": null,
   "metadata": {},
   "outputs": [],
   "source": []
  },
  {
   "cell_type": "code",
   "execution_count": null,
   "metadata": {},
   "outputs": [],
   "source": []
  },
  {
   "cell_type": "code",
   "execution_count": null,
   "metadata": {},
   "outputs": [],
   "source": []
  },
  {
   "cell_type": "code",
   "execution_count": null,
   "metadata": {},
   "outputs": [],
   "source": []
  },
  {
   "cell_type": "code",
   "execution_count": null,
   "metadata": {},
   "outputs": [],
   "source": []
  },
  {
   "cell_type": "code",
   "execution_count": null,
   "metadata": {},
   "outputs": [],
   "source": []
  },
  {
   "cell_type": "code",
   "execution_count": null,
   "metadata": {},
   "outputs": [],
   "source": []
  }
 ],
 "metadata": {
  "kernelspec": {
   "display_name": "base",
   "language": "python",
   "name": "python3"
  },
  "language_info": {
   "codemirror_mode": {
    "name": "ipython",
    "version": 3
   },
   "file_extension": ".py",
   "mimetype": "text/x-python",
   "name": "python",
   "nbconvert_exporter": "python",
   "pygments_lexer": "ipython3",
   "version": "3.9.13"
  },
  "orig_nbformat": 4
 },
 "nbformat": 4,
 "nbformat_minor": 2
}
